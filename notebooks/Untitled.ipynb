{
 "cells": [
  {
   "cell_type": "markdown",
   "id": "9c753b73-5a3d-4557-84ca-39df803b4a3f",
   "metadata": {},
   "source": [
    "# 1-D Magnetotellurics Bayesian Inversion\n",
    "## Dimensionality Discrepancy Estimation "
   ]
  },
  {
   "cell_type": "code",
   "execution_count": null,
   "id": "3351fb45-0ec4-42be-bd37-ee05da011d34",
   "metadata": {},
   "outputs": [],
   "source": []
  }
 ],
 "metadata": {
  "kernelspec": {
   "display_name": "Python 3 (ipykernel)",
   "language": "python",
   "name": "python3"
  },
  "language_info": {
   "codemirror_mode": {
    "name": "ipython",
    "version": 3
   },
   "file_extension": ".py",
   "mimetype": "text/x-python",
   "name": "python",
   "nbconvert_exporter": "python",
   "pygments_lexer": "ipython3",
   "version": "3.11.7"
  }
 },
 "nbformat": 4,
 "nbformat_minor": 5
}
